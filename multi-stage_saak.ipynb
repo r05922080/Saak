{
 "cells": [
  {
   "cell_type": "code",
   "execution_count": 87,
   "metadata": {
    "collapsed": false
   },
   "outputs": [],
   "source": [
    "# load libs\n",
    "import torch\n",
    "import argparse\n",
    "from torchvision import datasets, transforms\n",
    "import matplotlib.pyplot as plt\n",
    "import numpy as np\n",
    "import torch.utils.data as data_utils\n",
    "from sklearn.decomposition import PCA\n",
    "import torch.nn.functional as F\n",
    "from torch.autograd import Variable\n",
    "np.set_printoptions(threshold=np.inf)  "
   ]
  },
  {
   "cell_type": "code",
   "execution_count": 88,
   "metadata": {
    "collapsed": false
   },
   "outputs": [],
   "source": [
    "# load image from clean\n",
    "imageName = ['barb','boat','lena','mandrill','peppers-bw']  # 0 to 4\n",
    "ImageStart = 4\n",
    "imageCount = 1           # 1 to 5\n",
    "chooseType = '2Blur'\n",
    "from PIL import Image\n",
    "def create_numpy_dataset():\n",
    "    output = []\n",
    "    for i in range(ImageStart,ImageStart+imageCount):\n",
    "        im = Image.open('Blurred/'+ chooseType +'/'+str(i)+'.bmp', 'r')\n",
    "        output.append(list(im.getdata()))\n",
    "    # reshape the image to 512, 512\n",
    "    output = np.array(output,dtype=np.float64)\n",
    "    output = np.reshape(output,(imageCount,512,512))\n",
    "    data = np.expand_dims(output,axis=1)\n",
    "    return data"
   ]
  },
  {
   "cell_type": "code",
   "execution_count": 89,
   "metadata": {
    "collapsed": true
   },
   "outputs": [],
   "source": [
    "'''\n",
    "@ depth: determine shape, initial: 0\n",
    "'''\n",
    "from itertools import product\n",
    "def fit_pca_shape(datasets,depth):\n",
    "    factor=np.power(2,depth)\n",
    "    length=512/factor\n",
    "    idx1=range(0,length,2)\n",
    "    idx2=[i+2 for i in idx1]\n",
    "    data_lattice=[datasets[:,:,i:j,k:l] for ((i,j),(k,l)) in product(zip(idx1,idx2),zip(idx1,idx2))]\n",
    "    data_lattice=np.array(data_lattice)\n",
    "    print 'fit_pca_shape: data_lattice.shape: {}'.format(data_lattice.shape)\n",
    "\n",
    "    #shape reshape\n",
    "    data=np.reshape(data_lattice,(data_lattice.shape[0]*data_lattice.shape[1],data_lattice.shape[2],2,2))\n",
    "    print 'fit_pca_shape: reshape: {}'.format(data.shape)\n",
    "    return data"
   ]
  },
  {
   "cell_type": "code",
   "execution_count": 90,
   "metadata": {
    "collapsed": true
   },
   "outputs": [],
   "source": [
    "'''\n",
    "@ Prepare shape changes. \n",
    "@ return filters for convolution\n",
    "@ aug_anchors: [out_num*in_num,4] -> [out_num,in_num,2,2]\n",
    "'''\n",
    "def ret_filt_patches(aug_anchors,input_channels):\n",
    "    shape=aug_anchors.shape[1]/4\n",
    "    num=aug_anchors.shape[0]\n",
    "    filt=np.reshape(aug_anchors,(num,shape,4))\n",
    "    \n",
    "    # reshape to kernels, (# output_channels,# input_channels,2,2)\n",
    "    filters=np.reshape(filt,(num,shape,2,2))\n",
    "\n",
    "    return filters"
   ]
  },
  {
   "cell_type": "code",
   "execution_count": 91,
   "metadata": {
    "collapsed": true
   },
   "outputs": [],
   "source": [
    "'''\n",
    "@ return: augmented anchors\n",
    "'''\n",
    "def PCA_and_augment(data_in):\n",
    "    # data reshape\n",
    "    data=np.reshape(data_in,(data_in.shape[0],-1)).astype(np.float64)\n",
    "    mean=np.mean(data,axis=0)\n",
    "    datas_mean_remov = data - mean\n",
    "\n",
    "    pca=PCA()\n",
    "    datas_mean_remov.astype(np.float64)\n",
    "    pca.fit(datas_mean_remov)\n",
    "    comps=pca.components_\n",
    "\n",
    "    if comps[-1][0]<0:\n",
    "        for i in comps:\n",
    "            i*=-1\n",
    "    comps_aug=[vec*(-1) for vec in comps]\n",
    "    comps_complete=np.vstack((comps,comps_aug))\n",
    "    return comps_complete,mean"
   ]
  },
  {
   "cell_type": "code",
   "execution_count": 92,
   "metadata": {
    "collapsed": true
   },
   "outputs": [],
   "source": [
    "'''\n",
    "@ input: kernel and data\n",
    "@ output: conv+relu result\n",
    "'''\n",
    "def conv_and_relu(filters,datasets,stride=2):\n",
    "    # torch data change\n",
    "    \n",
    "    filters_t=torch.from_numpy(filters)\n",
    "    datasets_t=torch.from_numpy(datasets)\n",
    "\n",
    "    # Variables\n",
    "    filt=Variable(filters_t).type(torch.FloatTensor)\n",
    "    data=Variable(datasets_t).type(torch.FloatTensor)\n",
    "\n",
    "    # Convolution\n",
    "    output=F.conv2d(data,filt,stride=stride)\n",
    "\n",
    "    # Relu\n",
    "    relu_output=F.relu(output)\n",
    "\n",
    "    return relu_output,filt"
   ]
  },
  {
   "cell_type": "code",
   "execution_count": 93,
   "metadata": {
    "collapsed": true
   },
   "outputs": [],
   "source": [
    "'''\n",
    "@ One-stage Saak transform\n",
    "@ input: datasets [60000,channel,size,size]\n",
    "'''\n",
    "def one_stage_saak_trans(datasets=None,depth=0):\n",
    "\n",
    "    print 'one_stage_saak_trans: datasets.shape {}'.format(datasets.shape)\n",
    "    input_channels=datasets.shape[1]\n",
    "\n",
    "    data_flatten=fit_pca_shape(datasets,depth)\n",
    "    \n",
    "    comps_complete,mean=PCA_and_augment(data_flatten)\n",
    "\n",
    "    filters=ret_filt_patches(comps_complete,input_channels)\n",
    "    print 'one_stage_saak_trans: filters: {}'.format(filters.shape)\n",
    "\n",
    "    mean=np.mean(datasets,axis=0)\n",
    "    datasets = np.subtract(datasets, mean)\n",
    "    relu_output,filt=conv_and_relu(filters,datasets,stride=2)\n",
    "    res=relu_output.data.numpy()\n",
    "    \n",
    "    print 'one_stage_saak_trans final.shape: {}'.format(res.shape)\n",
    "\n",
    "    return res,filt,Variable(torch.from_numpy(res)),mean, filters.tolist()"
   ]
  },
  {
   "cell_type": "code",
   "execution_count": 94,
   "metadata": {
    "collapsed": false
   },
   "outputs": [],
   "source": [
    "'''\n",
    "@ Multi-stage Saak transform\n",
    "'''\n",
    "def multi_stage_saak_trans():\n",
    "    np_filters = []\n",
    "    filters = []\n",
    "    outputs = []\n",
    "    means=[]\n",
    "    data=create_numpy_dataset()\n",
    "    dataset=np.copy(data)\n",
    "    num=0\n",
    "    img_len=data.shape[-1]\n",
    "    while(img_len>=2):\n",
    "        num+=1\n",
    "        img_len/=2\n",
    "\n",
    "    for i in range(num):\n",
    "        print '{} stage of saak transform: '.format(i+1)\n",
    "        data,filt,output,mean,filt2=one_stage_saak_trans(data,depth=i)\n",
    "        filters.append(filt)\n",
    "        np_filters.append(filt2)\n",
    "        outputs.append(output)\n",
    "        means.append(mean)\n",
    "        print ''\n",
    "\n",
    "    return dataset,filters,outputs,means, np_filters"
   ]
  },
  {
   "cell_type": "code",
   "execution_count": 95,
   "metadata": {
    "collapsed": false
   },
   "outputs": [
    {
     "name": "stdout",
     "output_type": "stream",
     "text": [
      "1 stage of saak transform: \n",
      "one_stage_saak_trans: datasets.shape (1, 1, 512, 512)\n",
      "fit_pca_shape: data_lattice.shape: (65536, 1, 1, 2, 2)\n",
      "fit_pca_shape: reshape: (65536, 1, 2, 2)\n",
      "one_stage_saak_trans: filters: (8, 1, 2, 2)\n",
      "one_stage_saak_trans final.shape: (1, 8, 256, 256)\n",
      "\n",
      "2 stage of saak transform: \n",
      "one_stage_saak_trans: datasets.shape (1, 8, 256, 256)\n",
      "fit_pca_shape: data_lattice.shape: (16384, 1, 8, 2, 2)\n",
      "fit_pca_shape: reshape: (16384, 8, 2, 2)\n",
      "one_stage_saak_trans: filters: (64, 8, 2, 2)\n",
      "one_stage_saak_trans final.shape: (1, 64, 128, 128)\n",
      "\n",
      "3 stage of saak transform: \n",
      "one_stage_saak_trans: datasets.shape (1, 64, 128, 128)\n",
      "fit_pca_shape: data_lattice.shape: (4096, 1, 64, 2, 2)\n",
      "fit_pca_shape: reshape: (4096, 64, 2, 2)\n",
      "one_stage_saak_trans: filters: (512, 64, 2, 2)\n",
      "one_stage_saak_trans final.shape: (1, 512, 64, 64)\n",
      "\n",
      "4 stage of saak transform: \n",
      "one_stage_saak_trans: datasets.shape (1, 512, 64, 64)\n",
      "fit_pca_shape: data_lattice.shape: (1024, 1, 512, 2, 2)\n",
      "fit_pca_shape: reshape: (1024, 512, 2, 2)\n",
      "one_stage_saak_trans: filters: (2048, 512, 2, 2)\n",
      "one_stage_saak_trans final.shape: (1, 2048, 32, 32)\n",
      "\n",
      "5 stage of saak transform: \n",
      "one_stage_saak_trans: datasets.shape (1, 2048, 32, 32)\n",
      "fit_pca_shape: data_lattice.shape: (256, 1, 2048, 2, 2)\n",
      "fit_pca_shape: reshape: (256, 2048, 2, 2)\n",
      "one_stage_saak_trans: filters: (512, 2048, 2, 2)\n",
      "one_stage_saak_trans final.shape: (1, 512, 16, 16)\n",
      "\n",
      "6 stage of saak transform: \n",
      "one_stage_saak_trans: datasets.shape (1, 512, 16, 16)\n",
      "fit_pca_shape: data_lattice.shape: (64, 1, 512, 2, 2)\n",
      "fit_pca_shape: reshape: (64, 512, 2, 2)\n",
      "one_stage_saak_trans: filters: (128, 512, 2, 2)\n",
      "one_stage_saak_trans final.shape: (1, 128, 8, 8)\n",
      "\n",
      "7 stage of saak transform: \n",
      "one_stage_saak_trans: datasets.shape (1, 128, 8, 8)\n",
      "fit_pca_shape: data_lattice.shape: (16, 1, 128, 2, 2)\n",
      "fit_pca_shape: reshape: (16, 128, 2, 2)\n",
      "one_stage_saak_trans: filters: (32, 128, 2, 2)\n",
      "one_stage_saak_trans final.shape: (1, 32, 4, 4)\n",
      "\n",
      "8 stage of saak transform: \n",
      "one_stage_saak_trans: datasets.shape (1, 32, 4, 4)\n",
      "fit_pca_shape: data_lattice.shape: (4, 1, 32, 2, 2)\n",
      "fit_pca_shape: reshape: (4, 32, 2, 2)\n",
      "one_stage_saak_trans: filters: (8, 32, 2, 2)\n",
      "one_stage_saak_trans final.shape: (1, 8, 2, 2)\n",
      "\n",
      "9 stage of saak transform: \n",
      "one_stage_saak_trans: datasets.shape (1, 8, 2, 2)\n",
      "fit_pca_shape: data_lattice.shape: (1, 1, 8, 2, 2)\n",
      "fit_pca_shape: reshape: (1, 8, 2, 2)\n",
      "one_stage_saak_trans: filters: (2, 8, 2, 2)\n",
      "one_stage_saak_trans final.shape: (1, 2, 1, 1)\n",
      "\n"
     ]
    }
   ],
   "source": [
    "datas,filters,outputs,means,np_filters=multi_stage_saak_trans()"
   ]
  },
  {
   "cell_type": "code",
   "execution_count": 114,
   "metadata": {
    "collapsed": false
   },
   "outputs": [],
   "source": [
    "import json\n",
    "tmp = np.squeeze(np.array(np_filters))\n",
    "for i in range(1,9):\n",
    "    thefile = open('imageData/'+imageName[ImageStart]+'/'+ chooseType +str(i)+'.txt','w')\n",
    "    s = json.dumps(tmp[i-1])\n",
    "    thefile.write(s)\n",
    "    thefile.close()\n",
    "\n"
   ]
  },
  {
   "cell_type": "code",
   "execution_count": 97,
   "metadata": {
    "collapsed": true
   },
   "outputs": [],
   "source": [
    "# show sample\n",
    "def show_sample(ori,rec):\n",
    "    plt.subplot(1,2,1)\n",
    "    plt.imshow(ori)\n",
    "    plt.subplot(1,2,2)\n",
    "    plt.imshow(rec)\n",
    "    plt.show()"
   ]
  },
  {
   "cell_type": "code",
   "execution_count": 98,
   "metadata": {
    "collapsed": false
   },
   "outputs": [],
   "source": [
    "import numpy as np\n",
    "\n",
    "def psnr(im1,im2):\n",
    "    diff =(im1 - im2)\n",
    "    diff=diff**2\n",
    "    rmse=np.sqrt(diff.sum())\n",
    "    psnr = 20*np.log10(1/rmse)\n",
    "    return psnr"
   ]
  },
  {
   "cell_type": "code",
   "execution_count": 99,
   "metadata": {
    "collapsed": false
   },
   "outputs": [],
   "source": [
    "\n",
    "'''\n",
    "@ Reconstruct from second-last stage\n",
    "@ In fact, can be from any stage\n",
    "'''\n",
    "def toy_recon(outputs,filters,means):\n",
    "    outputs=outputs[::-1][2:]\n",
    "    filters=filters[::-1][2:]\n",
    "    means=means[::-1][2:]\n",
    "    num=len(outputs)\n",
    "    data=outputs[0]\n",
    "    for i in range(num):\n",
    "        data = F.conv_transpose2d(data, filters[i], stride=2)\n",
    "        data = data+Variable(torch.from_numpy(means[i])).type(torch.FloatTensor)\n",
    "    return data"
   ]
  },
  {
   "cell_type": "code",
   "execution_count": 100,
   "metadata": {
    "collapsed": false
   },
   "outputs": [],
   "source": [
    "ret=toy_recon(outputs,filters,means)"
   ]
  },
  {
   "cell_type": "code",
   "execution_count": 101,
   "metadata": {
    "collapsed": false
   },
   "outputs": [
    {
     "data": {
      "image/png": "[encoded data removed]",
      "text/plain": [
       "<matplotlib.figure.Figure at 0x1193c6950>"
      ]
     },
     "metadata": {},
     "output_type": "display_data"
    },
    {
     "name": "stdout",
     "output_type": "stream",
     "text": [
      "psnr metric: inf\n"
     ]
    },
    {
     "name": "stderr",
     "output_type": "stream",
     "text": [
      "/Users/daniel820710/anaconda/lib/python2.7/site-packages/ipykernel/__main__.py:7: RuntimeWarning: divide by zero encountered in double_scalars\n"
     ]
    }
   ],
   "source": [
    "for i in range(imageCount): \n",
    "    inv_img=ret.data.numpy()[i][0]\n",
    "    show_sample(datas[i][0],inv_img)\n",
    "    print 'psnr metric: {}'.format(psnr(datas[i][0],inv_img))"
   ]
  },
  {
   "cell_type": "code",
   "execution_count": 102,
   "metadata": {
    "collapsed": false
   },
   "outputs": [
    {
     "name": "stdout",
     "output_type": "stream",
     "text": [
      "[[[[1.0, 0.0], [0.0, 0.0]], [[0.0, 0.0], [0.0, 0.0]], [[0.0, 0.0], [0.0, 0.0]], [[0.0, 0.0], [0.0, 0.0]], [[0.0, 0.0], [0.0, 0.0]], [[0.0, 0.0], [0.0, 0.0]], [[0.0, 0.0], [0.0, 0.0]], [[0.0, 0.0], [0.0, 0.0]]], [[[-1.0, -0.0], [-0.0, -0.0]], [[-0.0, -0.0], [-0.0, -0.0]], [[-0.0, -0.0], [-0.0, -0.0]], [[-0.0, -0.0], [-0.0, -0.0]], [[-0.0, -0.0], [-0.0, -0.0]], [[-0.0, -0.0], [-0.0, -0.0]], [[-0.0, -0.0], [-0.0, -0.0]], [[-0.0, -0.0], [-0.0, -0.0]]]]\n"
     ]
    }
   ],
   "source": [
    "print (np_filters[8])"
   ]
  },
  {
   "cell_type": "code",
   "execution_count": 103,
   "metadata": {
    "collapsed": false
   },
   "outputs": [
    {
     "name": "stdout",
     "output_type": "stream",
     "text": [
      "(9,)\n"
     ]
    }
   ],
   "source": [
    "print (tmp.shape)"
   ]
  },
  {
   "cell_type": "code",
   "execution_count": 104,
   "metadata": {
    "collapsed": true
   },
   "outputs": [],
   "source": [
    "s = json.dumps(tmp[7])"
   ]
  },
  {
   "cell_type": "code",
   "execution_count": 105,
   "metadata": {
    "collapsed": false
   },
   "outputs": [
    {
     "name": "stdout",
     "output_type": "stream",
     "text": [
      "[[[[1.0, 0.0], [0.0, 0.0]], [[0.0, 0.0], [0.0, 0.0]], [[0.0, 0.0], [0.0, 0.0]], [[0.0, 0.0], [0.0, 0.0]], [[0.0, 0.0], [0.0, 0.0]], [[0.0, 0.0], [0.0, 0.0]], [[0.0, 0.0], [0.0, 0.0]], [[0.0, 0.0], [0.0, 0.0]], [[0.0, 0.0], [0.0, 0.0]], [[0.0, 0.0], [0.0, 0.0]], [[0.0, 0.0], [0.0, 0.0]], [[0.0, 0.0], [0.0, 0.0]], [[0.0, 0.0], [0.0, 0.0]], [[0.0, 0.0], [0.0, 0.0]], [[0.0, 0.0], [0.0, 0.0]], [[0.0, 0.0], [0.0, 0.0]], [[0.0, 0.0], [0.0, 0.0]], [[0.0, 0.0], [0.0, 0.0]], [[0.0, 0.0], [0.0, 0.0]], [[0.0, 0.0], [0.0, 0.0]], [[0.0, 0.0], [0.0, 0.0]], [[0.0, 0.0], [0.0, 0.0]], [[0.0, 0.0], [0.0, 0.0]], [[0.0, 0.0], [0.0, 0.0]], [[0.0, 0.0], [0.0, 0.0]], [[0.0, 0.0], [0.0, 0.0]], [[0.0, 0.0], [0.0, 0.0]], [[0.0, 0.0], [0.0, 0.0]], [[0.0, 0.0], [0.0, 0.0]], [[0.0, 0.0], [0.0, 0.0]], [[0.0, 0.0], [0.0, 0.0]], [[0.0, 0.0], [0.0, 0.0]]], [[[0.0, 1.0], [0.0, 0.0]], [[0.0, 0.0], [0.0, 0.0]], [[0.0, 0.0], [0.0, 0.0]], [[0.0, 0.0], [0.0, 0.0]], [[0.0, 0.0], [0.0, 0.0]], [[0.0, 0.0], [0.0, 0.0]], [[0.0, 0.0], [0.0, 0.0]], [[0.0, 0.0], [0.0, 0.0]], [[0.0, 0.0], [0.0, 0.0]], [[0.0, 0.0], [0.0, 0.0]], [[0.0, 0.0], [0.0, 0.0]], [[0.0, 0.0], [0.0, 0.0]], [[0.0, 0.0], [0.0, 0.0]], [[0.0, 0.0], [0.0, 0.0]], [[0.0, 0.0], [0.0, 0.0]], [[0.0, 0.0], [0.0, 0.0]], [[0.0, 0.0], [0.0, 0.0]], [[0.0, 0.0], [0.0, 0.0]], [[0.0, 0.0], [0.0, 0.0]], [[0.0, 0.0], [0.0, 0.0]], [[0.0, 0.0], [0.0, 0.0]], [[0.0, 0.0], [0.0, 0.0]], [[0.0, 0.0], [0.0, 0.0]], [[0.0, 0.0], [0.0, 0.0]], [[0.0, 0.0], [0.0, 0.0]], [[0.0, 0.0], [0.0, 0.0]], [[0.0, 0.0], [0.0, 0.0]], [[0.0, 0.0], [0.0, 0.0]], [[0.0, 0.0], [0.0, 0.0]], [[0.0, 0.0], [0.0, 0.0]], [[0.0, 0.0], [0.0, 0.0]], [[0.0, 0.0], [0.0, 0.0]]], [[[0.0, 0.0], [1.0, 0.0]], [[0.0, 0.0], [0.0, 0.0]], [[0.0, 0.0], [0.0, 0.0]], [[0.0, 0.0], [0.0, 0.0]], [[0.0, 0.0], [0.0, 0.0]], [[0.0, 0.0], [0.0, 0.0]], [[0.0, 0.0], [0.0, 0.0]], [[0.0, 0.0], [0.0, 0.0]], [[0.0, 0.0], [0.0, 0.0]], [[0.0, 0.0], [0.0, 0.0]], [[0.0, 0.0], [0.0, 0.0]], [[0.0, 0.0], [0.0, 0.0]], [[0.0, 0.0], [0.0, 0.0]], [[0.0, 0.0], [0.0, 0.0]], [[0.0, 0.0], [0.0, 0.0]], [[0.0, 0.0], [0.0, 0.0]], [[0.0, 0.0], [0.0, 0.0]], [[0.0, 0.0], [0.0, 0.0]], [[0.0, 0.0], [0.0, 0.0]], [[0.0, 0.0], [0.0, 0.0]], [[0.0, 0.0], [0.0, 0.0]], [[0.0, 0.0], [0.0, 0.0]], [[0.0, 0.0], [0.0, 0.0]], [[0.0, 0.0], [0.0, 0.0]], [[0.0, 0.0], [0.0, 0.0]], [[0.0, 0.0], [0.0, 0.0]], [[0.0, 0.0], [0.0, 0.0]], [[0.0, 0.0], [0.0, 0.0]], [[0.0, 0.0], [0.0, 0.0]], [[0.0, 0.0], [0.0, 0.0]], [[0.0, 0.0], [0.0, 0.0]], [[0.0, 0.0], [0.0, 0.0]]], [[[0.0, 0.0], [0.0, 1.0]], [[0.0, 0.0], [0.0, 0.0]], [[0.0, 0.0], [0.0, 0.0]], [[0.0, 0.0], [0.0, 0.0]], [[0.0, 0.0], [0.0, 0.0]], [[0.0, 0.0], [0.0, 0.0]], [[0.0, 0.0], [0.0, 0.0]], [[0.0, 0.0], [0.0, 0.0]], [[0.0, 0.0], [0.0, 0.0]], [[0.0, 0.0], [0.0, 0.0]], [[0.0, 0.0], [0.0, 0.0]], [[0.0, 0.0], [0.0, 0.0]], [[0.0, 0.0], [0.0, 0.0]], [[0.0, 0.0], [0.0, 0.0]], [[0.0, 0.0], [0.0, 0.0]], [[0.0, 0.0], [0.0, 0.0]], [[0.0, 0.0], [0.0, 0.0]], [[0.0, 0.0], [0.0, 0.0]], [[0.0, 0.0], [0.0, 0.0]], [[0.0, 0.0], [0.0, 0.0]], [[0.0, 0.0], [0.0, 0.0]], [[0.0, 0.0], [0.0, 0.0]], [[0.0, 0.0], [0.0, 0.0]], [[0.0, 0.0], [0.0, 0.0]], [[0.0, 0.0], [0.0, 0.0]], [[0.0, 0.0], [0.0, 0.0]], [[0.0, 0.0], [0.0, 0.0]], [[0.0, 0.0], [0.0, 0.0]], [[0.0, 0.0], [0.0, 0.0]], [[0.0, 0.0], [0.0, 0.0]], [[0.0, 0.0], [0.0, 0.0]], [[0.0, 0.0], [0.0, 0.0]]], [[[-1.0, -0.0], [-0.0, -0.0]], [[-0.0, -0.0], [-0.0, -0.0]], [[-0.0, -0.0], [-0.0, -0.0]], [[-0.0, -0.0], [-0.0, -0.0]], [[-0.0, -0.0], [-0.0, -0.0]], [[-0.0, -0.0], [-0.0, -0.0]], [[-0.0, -0.0], [-0.0, -0.0]], [[-0.0, -0.0], [-0.0, -0.0]], [[-0.0, -0.0], [-0.0, -0.0]], [[-0.0, -0.0], [-0.0, -0.0]], [[-0.0, -0.0], [-0.0, -0.0]], [[-0.0, -0.0], [-0.0, -0.0]], [[-0.0, -0.0], [-0.0, -0.0]], [[-0.0, -0.0], [-0.0, -0.0]], [[-0.0, -0.0], [-0.0, -0.0]], [[-0.0, -0.0], [-0.0, -0.0]], [[-0.0, -0.0], [-0.0, -0.0]], [[-0.0, -0.0], [-0.0, -0.0]], [[-0.0, -0.0], [-0.0, -0.0]], [[-0.0, -0.0], [-0.0, -0.0]], [[-0.0, -0.0], [-0.0, -0.0]], [[-0.0, -0.0], [-0.0, -0.0]], [[-0.0, -0.0], [-0.0, -0.0]], [[-0.0, -0.0], [-0.0, -0.0]], [[-0.0, -0.0], [-0.0, -0.0]], [[-0.0, -0.0], [-0.0, -0.0]], [[-0.0, -0.0], [-0.0, -0.0]], [[-0.0, -0.0], [-0.0, -0.0]], [[-0.0, -0.0], [-0.0, -0.0]], [[-0.0, -0.0], [-0.0, -0.0]], [[-0.0, -0.0], [-0.0, -0.0]], [[-0.0, -0.0], [-0.0, -0.0]]], [[[-0.0, -1.0], [-0.0, -0.0]], [[-0.0, -0.0], [-0.0, -0.0]], [[-0.0, -0.0], [-0.0, -0.0]], [[-0.0, -0.0], [-0.0, -0.0]], [[-0.0, -0.0], [-0.0, -0.0]], [[-0.0, -0.0], [-0.0, -0.0]], [[-0.0, -0.0], [-0.0, -0.0]], [[-0.0, -0.0], [-0.0, -0.0]], [[-0.0, -0.0], [-0.0, -0.0]], [[-0.0, -0.0], [-0.0, -0.0]], [[-0.0, -0.0], [-0.0, -0.0]], [[-0.0, -0.0], [-0.0, -0.0]], [[-0.0, -0.0], [-0.0, -0.0]], [[-0.0, -0.0], [-0.0, -0.0]], [[-0.0, -0.0], [-0.0, -0.0]], [[-0.0, -0.0], [-0.0, -0.0]], [[-0.0, -0.0], [-0.0, -0.0]], [[-0.0, -0.0], [-0.0, -0.0]], [[-0.0, -0.0], [-0.0, -0.0]], [[-0.0, -0.0], [-0.0, -0.0]], [[-0.0, -0.0], [-0.0, -0.0]], [[-0.0, -0.0], [-0.0, -0.0]], [[-0.0, -0.0], [-0.0, -0.0]], [[-0.0, -0.0], [-0.0, -0.0]], [[-0.0, -0.0], [-0.0, -0.0]], [[-0.0, -0.0], [-0.0, -0.0]], [[-0.0, -0.0], [-0.0, -0.0]], [[-0.0, -0.0], [-0.0, -0.0]], [[-0.0, -0.0], [-0.0, -0.0]], [[-0.0, -0.0], [-0.0, -0.0]], [[-0.0, -0.0], [-0.0, -0.0]], [[-0.0, -0.0], [-0.0, -0.0]]], [[[-0.0, -0.0], [-1.0, -0.0]], [[-0.0, -0.0], [-0.0, -0.0]], [[-0.0, -0.0], [-0.0, -0.0]], [[-0.0, -0.0], [-0.0, -0.0]], [[-0.0, -0.0], [-0.0, -0.0]], [[-0.0, -0.0], [-0.0, -0.0]], [[-0.0, -0.0], [-0.0, -0.0]], [[-0.0, -0.0], [-0.0, -0.0]], [[-0.0, -0.0], [-0.0, -0.0]], [[-0.0, -0.0], [-0.0, -0.0]], [[-0.0, -0.0], [-0.0, -0.0]], [[-0.0, -0.0], [-0.0, -0.0]], [[-0.0, -0.0], [-0.0, -0.0]], [[-0.0, -0.0], [-0.0, -0.0]], [[-0.0, -0.0], [-0.0, -0.0]], [[-0.0, -0.0], [-0.0, -0.0]], [[-0.0, -0.0], [-0.0, -0.0]], [[-0.0, -0.0], [-0.0, -0.0]], [[-0.0, -0.0], [-0.0, -0.0]], [[-0.0, -0.0], [-0.0, -0.0]], [[-0.0, -0.0], [-0.0, -0.0]], [[-0.0, -0.0], [-0.0, -0.0]], [[-0.0, -0.0], [-0.0, -0.0]], [[-0.0, -0.0], [-0.0, -0.0]], [[-0.0, -0.0], [-0.0, -0.0]], [[-0.0, -0.0], [-0.0, -0.0]], [[-0.0, -0.0], [-0.0, -0.0]], [[-0.0, -0.0], [-0.0, -0.0]], [[-0.0, -0.0], [-0.0, -0.0]], [[-0.0, -0.0], [-0.0, -0.0]], [[-0.0, -0.0], [-0.0, -0.0]], [[-0.0, -0.0], [-0.0, -0.0]]], [[[-0.0, -0.0], [-0.0, -1.0]], [[-0.0, -0.0], [-0.0, -0.0]], [[-0.0, -0.0], [-0.0, -0.0]], [[-0.0, -0.0], [-0.0, -0.0]], [[-0.0, -0.0], [-0.0, -0.0]], [[-0.0, -0.0], [-0.0, -0.0]], [[-0.0, -0.0], [-0.0, -0.0]], [[-0.0, -0.0], [-0.0, -0.0]], [[-0.0, -0.0], [-0.0, -0.0]], [[-0.0, -0.0], [-0.0, -0.0]], [[-0.0, -0.0], [-0.0, -0.0]], [[-0.0, -0.0], [-0.0, -0.0]], [[-0.0, -0.0], [-0.0, -0.0]], [[-0.0, -0.0], [-0.0, -0.0]], [[-0.0, -0.0], [-0.0, -0.0]], [[-0.0, -0.0], [-0.0, -0.0]], [[-0.0, -0.0], [-0.0, -0.0]], [[-0.0, -0.0], [-0.0, -0.0]], [[-0.0, -0.0], [-0.0, -0.0]], [[-0.0, -0.0], [-0.0, -0.0]], [[-0.0, -0.0], [-0.0, -0.0]], [[-0.0, -0.0], [-0.0, -0.0]], [[-0.0, -0.0], [-0.0, -0.0]], [[-0.0, -0.0], [-0.0, -0.0]], [[-0.0, -0.0], [-0.0, -0.0]], [[-0.0, -0.0], [-0.0, -0.0]], [[-0.0, -0.0], [-0.0, -0.0]], [[-0.0, -0.0], [-0.0, -0.0]], [[-0.0, -0.0], [-0.0, -0.0]], [[-0.0, -0.0], [-0.0, -0.0]], [[-0.0, -0.0], [-0.0, -0.0]], [[-0.0, -0.0], [-0.0, -0.0]]]]\n"
     ]
    }
   ],
   "source": [
    "print (s)"
   ]
  },
  {
   "cell_type": "code",
   "execution_count": null,
   "metadata": {
    "collapsed": true
   },
   "outputs": [],
   "source": []
  }
 ],
 "metadata": {
  "anaconda-cloud": {},
  "kernelspec": {
   "display_name": "Python 2",
   "language": "python",
   "name": "python2"
  },
  "language_info": {
   "codemirror_mode": {
    "name": "ipython",
    "version": 2
   },
   "file_extension": ".py",
   "mimetype": "text/x-python",
   "name": "python",
   "nbconvert_exporter": "python",
   "pygments_lexer": "ipython2",
   "version": "2.7.13"
  }
 },
 "nbformat": 4,
 "nbformat_minor": 1
}
