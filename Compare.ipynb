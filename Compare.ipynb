{
 "cells": [
  {
   "cell_type": "code",
   "execution_count": 1,
   "metadata": {
    "collapsed": true
   },
   "outputs": [],
   "source": [
    "import numpy as np\n",
    "import json\n",
    "np.set_printoptions(threshold=np.inf)  "
   ]
  },
  {
   "cell_type": "code",
   "execution_count": 2,
   "metadata": {
    "collapsed": false
   },
   "outputs": [],
   "source": [
    "clean = []\n",
    "blur1 = []\n",
    "blur2 = []\n",
    "imageName = ['barb','boat','lena','mandrill','peppers-bw']  # 0 to 4"
   ]
  },
  {
   "cell_type": "code",
   "execution_count": 3,
   "metadata": {
    "collapsed": false
   },
   "outputs": [],
   "source": [
    "for j in range(len(imageName)):\n",
    "    blur1Tmp = []\n",
    "    blur2Tmp = []\n",
    "    cleanTmp = []\n",
    "    for i in range(1,9):\n",
    "        file = open('imageData/'+imageName[j]+'/Clean'+str(i)+'.txt','r')\n",
    "        cleanTmp.append(json.loads(file.read()))\n",
    "        file.close()\n",
    "        file = open('imageData/'+imageName[j]+'/1Blur'+str(i)+'.txt','r')\n",
    "        blur1Tmp.append(json.loads(file.read()))\n",
    "        file.close()\n",
    "        file = open('imageData/'+imageName[j]+'/2Blur'+str(i)+'.txt','r')\n",
    "        blur2Tmp.append(json.loads(file.read()))\n",
    "        file.close()\n",
    "    clean.append(cleanTmp)\n",
    "    blur1.append(blur1Tmp)\n",
    "    blur2.append(blur2Tmp)"
   ]
  },
  {
   "cell_type": "code",
   "execution_count": 16,
   "metadata": {
    "collapsed": false
   },
   "outputs": [],
   "source": [
    "clean_blur1 = []\n",
    "blur1_blur2 = []\n",
    "for i in range(5):\n",
    "    tmp1 = np.subtract(np.array(clean[i][0]),np.array(blur1[i][0]))\n",
    "    tmp2 = np.subtract(np.array(blur1[i][0]),np.array(blur2[i][0]))\n",
    "    clean_blur1.append(tmp1)\n",
    "    blur1_blur2.append(tmp2)\n"
   ]
  },
  {
   "cell_type": "code",
   "execution_count": 17,
   "metadata": {
    "collapsed": true
   },
   "outputs": [],
   "source": [
    "clean_blur1 = np.array(clean_blur1)\n",
    "blur1_blur2 = np.array(blur1_blur2)"
   ]
  },
  {
   "cell_type": "code",
   "execution_count": 19,
   "metadata": {
    "collapsed": false
   },
   "outputs": [
    {
     "data": {
      "text/plain": [
       "[array([[[[-1.00221631, -0.99784771],\n",
       "          [-0.99834429, -1.0016117 ]]],\n",
       " \n",
       " \n",
       "        [[[ 2.34118828, -1.57884381],\n",
       "          [ 1.57449175, -2.34148662]]],\n",
       " \n",
       " \n",
       "        [[[ 0.60738068,  2.28519632],\n",
       "          [-1.29161918, -1.60962241]]],\n",
       " \n",
       " \n",
       "        [[[-0.0549595 ,  1.0525637 ],\n",
       "          [-0.02841981, -0.97011137]]],\n",
       " \n",
       " \n",
       "        [[[ 1.00221631,  0.99784771],\n",
       "          [ 0.99834429,  1.0016117 ]]],\n",
       " \n",
       " \n",
       "        [[[-2.34118828,  1.57884381],\n",
       "          [-1.57449175,  2.34148662]]],\n",
       " \n",
       " \n",
       "        [[[-0.60738068, -2.28519632],\n",
       "          [ 1.29161918,  1.60962241]]],\n",
       " \n",
       " \n",
       "        [[[ 0.0549595 , -1.0525637 ],\n",
       "          [ 0.02841981,  0.97011137]]]]),\n",
       " array([[[[ -7.20238860e-05,   2.01273131e-05],\n",
       "          [  6.58343014e-04,  -6.06851541e-04]]],\n",
       " \n",
       " \n",
       "        [[[ -2.31184208e+00,  -7.15296803e-01],\n",
       "          [  7.16845861e-01,   2.30987243e+00]]],\n",
       " \n",
       " \n",
       "        [[[  1.56805456e-01,   1.20062908e+00],\n",
       "          [ -1.19817986e+00,  -1.59976576e-01]]],\n",
       " \n",
       " \n",
       "        [[[  1.79615023e-04,   2.54333817e-03],\n",
       "          [ -1.85799014e-03,   4.93123715e-04]]],\n",
       " \n",
       " \n",
       "        [[[  7.20238860e-05,  -2.01273131e-05],\n",
       "          [ -6.58343014e-04,   6.06851541e-04]]],\n",
       " \n",
       " \n",
       "        [[[  2.31184208e+00,   7.15296803e-01],\n",
       "          [ -7.16845861e-01,  -2.30987243e+00]]],\n",
       " \n",
       " \n",
       "        [[[ -1.56805456e-01,  -1.20062908e+00],\n",
       "          [  1.19817986e+00,   1.59976576e-01]]],\n",
       " \n",
       " \n",
       "        [[[ -1.79615023e-04,  -2.54333817e-03],\n",
       "          [  1.85799014e-03,  -4.93123715e-04]]]]),\n",
       " array([[[[ -9.99643319e-01,  -9.99715416e-01],\n",
       "          [ -9.99844844e-01,  -1.00079759e+00]]],\n",
       " \n",
       " \n",
       "        [[[ -1.16960359e+00,   7.92308272e-01],\n",
       "          [ -7.95262081e-01,   1.17131441e+00]]],\n",
       " \n",
       " \n",
       "        [[[  1.60199312e+00,   2.33246008e+00],\n",
       "          [ -2.32753970e+00,  -1.60477358e+00]]],\n",
       " \n",
       " \n",
       "        [[[ -8.23859381e-05,   2.89682081e-03],\n",
       "          [ -1.99800581e-03,   9.64572637e-04]]],\n",
       " \n",
       " \n",
       "        [[[  9.99643319e-01,   9.99715416e-01],\n",
       "          [  9.99844844e-01,   1.00079759e+00]]],\n",
       " \n",
       " \n",
       "        [[[  1.16960359e+00,  -7.92308272e-01],\n",
       "          [  7.95262081e-01,  -1.17131441e+00]]],\n",
       " \n",
       " \n",
       "        [[[ -1.60199312e+00,  -2.33246008e+00],\n",
       "          [  2.32753970e+00,   1.60477358e+00]]],\n",
       " \n",
       " \n",
       "        [[[  8.23859381e-05,  -2.89682081e-03],\n",
       "          [  1.99800581e-03,  -9.64572637e-04]]]]),\n",
       " array([[[[ 1.99389293,  1.99151422],\n",
       "          [ 2.00742043,  2.00708919]]],\n",
       " \n",
       " \n",
       "        [[[-2.17188939, -1.77271842],\n",
       "          [ 1.76081304,  2.1551215 ]]],\n",
       " \n",
       " \n",
       "        [[[ 1.77482056, -2.17339371],\n",
       "          [ 2.15359105, -1.75863165]]],\n",
       " \n",
       " \n",
       "        [[[-0.00774586,  0.00383284],\n",
       "          [-0.00480694,  0.0065838 ]]],\n",
       " \n",
       " \n",
       "        [[[-1.99389293, -1.99151422],\n",
       "          [-2.00742043, -2.00708919]]],\n",
       " \n",
       " \n",
       "        [[[ 2.17188939,  1.77271842],\n",
       "          [-1.76081304, -2.1551215 ]]],\n",
       " \n",
       " \n",
       "        [[[-1.77482056,  2.17339371],\n",
       "          [-2.15359105,  1.75863165]]],\n",
       " \n",
       " \n",
       "        [[[ 0.00774586, -0.00383284],\n",
       "          [ 0.00480694, -0.0065838 ]]]]),\n",
       " array([[[[ 1.00019396,  0.99844837],\n",
       "          [ 1.00200991,  0.99934373]]],\n",
       " \n",
       " \n",
       "        [[[-2.33813202,  1.5792821 ],\n",
       "          [-1.5816055 ,  2.34386306]]],\n",
       " \n",
       " \n",
       "        [[[-0.06603027,  0.04647131],\n",
       "          [-0.0533574 ,  0.07254855]]],\n",
       " \n",
       " \n",
       "        [[[ 0.00417466,  0.00276715],\n",
       "          [-0.002643  , -0.00409321]]],\n",
       " \n",
       " \n",
       "        [[[-1.00019396, -0.99844837],\n",
       "          [-1.00200991, -0.99934373]]],\n",
       " \n",
       " \n",
       "        [[[ 2.33813202, -1.5792821 ],\n",
       "          [ 1.5816055 , -2.34386306]]],\n",
       " \n",
       " \n",
       "        [[[ 0.06603027, -0.04647131],\n",
       "          [ 0.0533574 , -0.07254855]]],\n",
       " \n",
       " \n",
       "        [[[-0.00417466, -0.00276715],\n",
       "          [ 0.002643  ,  0.00409321]]]])]"
      ]
     },
     "execution_count": 19,
     "metadata": {},
     "output_type": "execute_result"
    }
   ],
   "source": [
    "diff = []\n",
    "for i in range(5):\n",
    "    tmp = np.subtract(clean_blur1[i],blur1_blur2[i])\n",
    "    diff.append(tmp)\n",
    "diff"
   ]
  },
  {
   "cell_type": "code",
   "execution_count": null,
   "metadata": {
    "collapsed": true
   },
   "outputs": [],
   "source": []
  }
 ],
 "metadata": {
  "kernelspec": {
   "display_name": "Python 3",
   "language": "python",
   "name": "python3"
  },
  "language_info": {
   "codemirror_mode": {
    "name": "ipython",
    "version": 3
   },
   "file_extension": ".py",
   "mimetype": "text/x-python",
   "name": "python",
   "nbconvert_exporter": "python",
   "pygments_lexer": "ipython3",
   "version": "3.6.2"
  }
 },
 "nbformat": 4,
 "nbformat_minor": 2
}
